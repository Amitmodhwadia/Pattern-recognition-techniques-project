{
 "cells": [
  {
   "cell_type": "code",
   "execution_count": 2,
   "id": "4bd5135a-e576-4d28-be6d-2392bc15fef3",
   "metadata": {},
   "outputs": [
    {
     "name": "stdout",
     "output_type": "stream",
     "text": [
      "Requirement already satisfied: matplotlib in c:\\users\\modhw\\pyproj\\qcenv\\lib\\site-packages (3.9.1)\n",
      "Requirement already satisfied: contourpy>=1.0.1 in c:\\users\\modhw\\pyproj\\qcenv\\lib\\site-packages (from matplotlib) (1.2.1)\n",
      "Requirement already satisfied: cycler>=0.10 in c:\\users\\modhw\\pyproj\\qcenv\\lib\\site-packages (from matplotlib) (0.12.1)\n",
      "Requirement already satisfied: fonttools>=4.22.0 in c:\\users\\modhw\\pyproj\\qcenv\\lib\\site-packages (from matplotlib) (4.53.1)\n",
      "Requirement already satisfied: kiwisolver>=1.3.1 in c:\\users\\modhw\\pyproj\\qcenv\\lib\\site-packages (from matplotlib) (1.4.5)\n",
      "Requirement already satisfied: numpy>=1.23 in c:\\users\\modhw\\pyproj\\qcenv\\lib\\site-packages (from matplotlib) (1.26.4)\n",
      "Requirement already satisfied: packaging>=20.0 in c:\\users\\modhw\\pyproj\\qcenv\\lib\\site-packages (from matplotlib) (23.2)\n",
      "Requirement already satisfied: pillow>=8 in c:\\users\\modhw\\pyproj\\qcenv\\lib\\site-packages (from matplotlib) (10.4.0)\n",
      "Requirement already satisfied: pyparsing>=2.3.1 in c:\\users\\modhw\\pyproj\\qcenv\\lib\\site-packages (from matplotlib) (3.1.2)\n",
      "Requirement already satisfied: python-dateutil>=2.7 in c:\\users\\modhw\\pyproj\\qcenv\\lib\\site-packages (from matplotlib) (2.9.0.post0)\n",
      "Requirement already satisfied: six>=1.5 in c:\\users\\modhw\\pyproj\\qcenv\\lib\\site-packages (from python-dateutil>=2.7->matplotlib) (1.16.0)\n"
     ]
    }
   ],
   "source": [
    "!pip install -U matplotlib"
   ]
  },
  {
   "cell_type": "code",
   "execution_count": 4,
   "id": "f9278119-01f1-4eb0-8c22-1cfd103d1b52",
   "metadata": {},
   "outputs": [
    {
     "name": "stdout",
     "output_type": "stream",
     "text": [
      "Collecting scikit-learn\n",
      "  Downloading scikit_learn-1.5.1-cp312-cp312-win_amd64.whl.metadata (12 kB)\n",
      "Requirement already satisfied: numpy>=1.19.5 in c:\\users\\modhw\\pyproj\\qcenv\\lib\\site-packages (from scikit-learn) (1.26.4)\n",
      "Requirement already satisfied: scipy>=1.6.0 in c:\\users\\modhw\\pyproj\\qcenv\\lib\\site-packages (from scikit-learn) (1.14.0)\n",
      "Collecting joblib>=1.2.0 (from scikit-learn)\n",
      "  Downloading joblib-1.4.2-py3-none-any.whl.metadata (5.4 kB)\n",
      "Collecting threadpoolctl>=3.1.0 (from scikit-learn)\n",
      "  Downloading threadpoolctl-3.5.0-py3-none-any.whl.metadata (13 kB)\n",
      "Downloading scikit_learn-1.5.1-cp312-cp312-win_amd64.whl (10.9 MB)\n",
      "   ---------------------------------------- 0.0/10.9 MB ? eta -:--:--\n",
      "    --------------------------------------- 0.3/10.9 MB 8.3 MB/s eta 0:00:02\n",
      "   - -------------------------------------- 0.5/10.9 MB 5.6 MB/s eta 0:00:02\n",
      "   -- ------------------------------------- 0.6/10.9 MB 5.8 MB/s eta 0:00:02\n",
      "   -- ------------------------------------- 0.8/10.9 MB 5.1 MB/s eta 0:00:03\n",
      "   --- ------------------------------------ 1.0/10.9 MB 4.6 MB/s eta 0:00:03\n",
      "   ---- ----------------------------------- 1.1/10.9 MB 4.3 MB/s eta 0:00:03\n",
      "   ---- ----------------------------------- 1.3/10.9 MB 4.1 MB/s eta 0:00:03\n",
      "   ----- ---------------------------------- 1.4/10.9 MB 4.1 MB/s eta 0:00:03\n",
      "   ------ --------------------------------- 1.7/10.9 MB 4.4 MB/s eta 0:00:03\n",
      "   ------- -------------------------------- 2.0/10.9 MB 4.5 MB/s eta 0:00:02\n",
      "   -------- ------------------------------- 2.3/10.9 MB 4.7 MB/s eta 0:00:02\n",
      "   --------- ------------------------------ 2.5/10.9 MB 4.6 MB/s eta 0:00:02\n",
      "   --------- ------------------------------ 2.7/10.9 MB 4.6 MB/s eta 0:00:02\n",
      "   ---------- ----------------------------- 2.8/10.9 MB 4.5 MB/s eta 0:00:02\n",
      "   ---------- ----------------------------- 3.0/10.9 MB 4.5 MB/s eta 0:00:02\n",
      "   ----------- ---------------------------- 3.3/10.9 MB 4.5 MB/s eta 0:00:02\n",
      "   ------------ --------------------------- 3.5/10.9 MB 4.5 MB/s eta 0:00:02\n",
      "   ------------- -------------------------- 3.6/10.9 MB 4.5 MB/s eta 0:00:02\n",
      "   -------------- ------------------------- 3.8/10.9 MB 4.5 MB/s eta 0:00:02\n",
      "   -------------- ------------------------- 3.9/10.9 MB 4.4 MB/s eta 0:00:02\n",
      "   --------------- ------------------------ 4.1/10.9 MB 4.4 MB/s eta 0:00:02\n",
      "   --------------- ------------------------ 4.2/10.9 MB 4.2 MB/s eta 0:00:02\n",
      "   --------------- ------------------------ 4.3/10.9 MB 4.2 MB/s eta 0:00:02\n",
      "   ---------------- ----------------------- 4.4/10.9 MB 4.0 MB/s eta 0:00:02\n",
      "   ---------------- ----------------------- 4.6/10.9 MB 4.1 MB/s eta 0:00:02\n",
      "   ----------------- ---------------------- 4.7/10.9 MB 4.0 MB/s eta 0:00:02\n",
      "   ------------------ --------------------- 4.9/10.9 MB 4.0 MB/s eta 0:00:02\n",
      "   ------------------ --------------------- 5.1/10.9 MB 4.0 MB/s eta 0:00:02\n",
      "   ------------------ --------------------- 5.2/10.9 MB 4.0 MB/s eta 0:00:02\n",
      "   ------------------- -------------------- 5.2/10.9 MB 4.0 MB/s eta 0:00:02\n",
      "   ------------------- -------------------- 5.3/10.9 MB 3.8 MB/s eta 0:00:02\n",
      "   ------------------- -------------------- 5.4/10.9 MB 3.8 MB/s eta 0:00:02\n",
      "   -------------------- ------------------- 5.6/10.9 MB 3.7 MB/s eta 0:00:02\n",
      "   --------------------- ------------------ 5.9/10.9 MB 3.8 MB/s eta 0:00:02\n",
      "   ---------------------- ----------------- 6.0/10.9 MB 3.9 MB/s eta 0:00:02\n",
      "   ---------------------- ----------------- 6.2/10.9 MB 3.8 MB/s eta 0:00:02\n",
      "   ----------------------- ---------------- 6.3/10.9 MB 3.8 MB/s eta 0:00:02\n",
      "   ----------------------- ---------------- 6.4/10.9 MB 3.8 MB/s eta 0:00:02\n",
      "   ----------------------- ---------------- 6.5/10.9 MB 3.7 MB/s eta 0:00:02\n",
      "   ------------------------ --------------- 6.6/10.9 MB 3.7 MB/s eta 0:00:02\n",
      "   ------------------------ --------------- 6.6/10.9 MB 3.7 MB/s eta 0:00:02\n",
      "   ------------------------ --------------- 6.8/10.9 MB 3.6 MB/s eta 0:00:02\n",
      "   ------------------------- -------------- 7.0/10.9 MB 3.6 MB/s eta 0:00:02\n",
      "   -------------------------- ------------- 7.2/10.9 MB 3.7 MB/s eta 0:00:02\n",
      "   -------------------------- ------------- 7.2/10.9 MB 3.6 MB/s eta 0:00:02\n",
      "   --------------------------- ------------ 7.4/10.9 MB 3.6 MB/s eta 0:00:01\n",
      "   --------------------------- ------------ 7.6/10.9 MB 3.6 MB/s eta 0:00:01\n",
      "   ---------------------------- ----------- 7.7/10.9 MB 3.6 MB/s eta 0:00:01\n",
      "   ---------------------------- ----------- 7.9/10.9 MB 3.6 MB/s eta 0:00:01\n",
      "   ----------------------------- ---------- 8.0/10.9 MB 3.5 MB/s eta 0:00:01\n",
      "   ----------------------------- ---------- 8.0/10.9 MB 3.5 MB/s eta 0:00:01\n",
      "   ----------------------------- ---------- 8.0/10.9 MB 3.5 MB/s eta 0:00:01\n",
      "   ----------------------------- ---------- 8.0/10.9 MB 3.5 MB/s eta 0:00:01\n",
      "   ----------------------------- ---------- 8.1/10.9 MB 3.3 MB/s eta 0:00:01\n",
      "   ----------------------------- ---------- 8.2/10.9 MB 3.3 MB/s eta 0:00:01\n",
      "   ------------------------------ --------- 8.2/10.9 MB 3.3 MB/s eta 0:00:01\n",
      "   ------------------------------ --------- 8.3/10.9 MB 3.2 MB/s eta 0:00:01\n",
      "   ------------------------------ --------- 8.4/10.9 MB 3.2 MB/s eta 0:00:01\n",
      "   ------------------------------ --------- 8.5/10.9 MB 3.2 MB/s eta 0:00:01\n",
      "   ------------------------------- -------- 8.5/10.9 MB 3.2 MB/s eta 0:00:01\n",
      "   ------------------------------- -------- 8.6/10.9 MB 3.1 MB/s eta 0:00:01\n",
      "   ------------------------------- -------- 8.7/10.9 MB 3.1 MB/s eta 0:00:01\n",
      "   ------------------------------- -------- 8.7/10.9 MB 3.1 MB/s eta 0:00:01\n",
      "   -------------------------------- ------- 8.8/10.9 MB 3.1 MB/s eta 0:00:01\n",
      "   -------------------------------- ------- 8.9/10.9 MB 3.0 MB/s eta 0:00:01\n",
      "   -------------------------------- ------- 9.0/10.9 MB 3.0 MB/s eta 0:00:01\n",
      "   --------------------------------- ------ 9.1/10.9 MB 3.0 MB/s eta 0:00:01\n",
      "   --------------------------------- ------ 9.2/10.9 MB 3.0 MB/s eta 0:00:01\n",
      "   --------------------------------- ------ 9.2/10.9 MB 3.0 MB/s eta 0:00:01\n",
      "   ---------------------------------- ----- 9.3/10.9 MB 2.9 MB/s eta 0:00:01\n",
      "   ---------------------------------- ----- 9.4/10.9 MB 2.9 MB/s eta 0:00:01\n",
      "   ---------------------------------- ----- 9.5/10.9 MB 2.9 MB/s eta 0:00:01\n",
      "   ----------------------------------- ---- 9.6/10.9 MB 2.9 MB/s eta 0:00:01\n",
      "   ----------------------------------- ---- 9.7/10.9 MB 2.9 MB/s eta 0:00:01\n",
      "   ------------------------------------ --- 9.9/10.9 MB 2.9 MB/s eta 0:00:01\n",
      "   ------------------------------------- -- 10.1/10.9 MB 2.9 MB/s eta 0:00:01\n",
      "   ------------------------------------- -- 10.3/10.9 MB 2.9 MB/s eta 0:00:01\n",
      "   -------------------------------------- - 10.4/10.9 MB 2.9 MB/s eta 0:00:01\n",
      "   -------------------------------------- - 10.6/10.9 MB 2.9 MB/s eta 0:00:01\n",
      "   ---------------------------------------  10.7/10.9 MB 2.8 MB/s eta 0:00:01\n",
      "   ---------------------------------------  10.9/10.9 MB 2.8 MB/s eta 0:00:01\n",
      "   ---------------------------------------  10.9/10.9 MB 2.8 MB/s eta 0:00:01\n",
      "   ---------------------------------------- 10.9/10.9 MB 2.8 MB/s eta 0:00:00\n",
      "Downloading joblib-1.4.2-py3-none-any.whl (301 kB)\n",
      "   ---------------------------------------- 0.0/301.8 kB ? eta -:--:--\n",
      "   -------------- ------------------------- 112.6/301.8 kB 3.3 MB/s eta 0:00:01\n",
      "   ---------------------------------------  297.0/301.8 kB 3.1 MB/s eta 0:00:01\n",
      "   ---------------------------------------- 301.8/301.8 kB 2.7 MB/s eta 0:00:00\n",
      "Downloading threadpoolctl-3.5.0-py3-none-any.whl (18 kB)\n",
      "Installing collected packages: threadpoolctl, joblib, scikit-learn\n",
      "Successfully installed joblib-1.4.2 scikit-learn-1.5.1 threadpoolctl-3.5.0\n"
     ]
    }
   ],
   "source": [
    "!pip install -U scikit-learn"
   ]
  },
  {
   "cell_type": "code",
   "execution_count": 5,
   "id": "57129e42-d700-4583-90ac-b4412e591213",
   "metadata": {},
   "outputs": [
    {
     "name": "stdout",
     "output_type": "stream",
     "text": [
      "Collecting seaborn\n",
      "  Using cached seaborn-0.13.2-py3-none-any.whl.metadata (5.4 kB)\n",
      "Requirement already satisfied: numpy!=1.24.0,>=1.20 in c:\\users\\modhw\\pyproj\\qcenv\\lib\\site-packages (from seaborn) (1.26.4)\n",
      "Requirement already satisfied: pandas>=1.2 in c:\\users\\modhw\\pyproj\\qcenv\\lib\\site-packages (from seaborn) (2.2.2)\n",
      "Requirement already satisfied: matplotlib!=3.6.1,>=3.4 in c:\\users\\modhw\\pyproj\\qcenv\\lib\\site-packages (from seaborn) (3.9.1)\n",
      "Requirement already satisfied: contourpy>=1.0.1 in c:\\users\\modhw\\pyproj\\qcenv\\lib\\site-packages (from matplotlib!=3.6.1,>=3.4->seaborn) (1.2.1)\n",
      "Requirement already satisfied: cycler>=0.10 in c:\\users\\modhw\\pyproj\\qcenv\\lib\\site-packages (from matplotlib!=3.6.1,>=3.4->seaborn) (0.12.1)\n",
      "Requirement already satisfied: fonttools>=4.22.0 in c:\\users\\modhw\\pyproj\\qcenv\\lib\\site-packages (from matplotlib!=3.6.1,>=3.4->seaborn) (4.53.1)\n",
      "Requirement already satisfied: kiwisolver>=1.3.1 in c:\\users\\modhw\\pyproj\\qcenv\\lib\\site-packages (from matplotlib!=3.6.1,>=3.4->seaborn) (1.4.5)\n",
      "Requirement already satisfied: packaging>=20.0 in c:\\users\\modhw\\pyproj\\qcenv\\lib\\site-packages (from matplotlib!=3.6.1,>=3.4->seaborn) (23.2)\n",
      "Requirement already satisfied: pillow>=8 in c:\\users\\modhw\\pyproj\\qcenv\\lib\\site-packages (from matplotlib!=3.6.1,>=3.4->seaborn) (10.4.0)\n",
      "Requirement already satisfied: pyparsing>=2.3.1 in c:\\users\\modhw\\pyproj\\qcenv\\lib\\site-packages (from matplotlib!=3.6.1,>=3.4->seaborn) (3.1.2)\n",
      "Requirement already satisfied: python-dateutil>=2.7 in c:\\users\\modhw\\pyproj\\qcenv\\lib\\site-packages (from matplotlib!=3.6.1,>=3.4->seaborn) (2.9.0.post0)\n",
      "Requirement already satisfied: pytz>=2020.1 in c:\\users\\modhw\\pyproj\\qcenv\\lib\\site-packages (from pandas>=1.2->seaborn) (2024.1)\n",
      "Requirement already satisfied: tzdata>=2022.7 in c:\\users\\modhw\\pyproj\\qcenv\\lib\\site-packages (from pandas>=1.2->seaborn) (2024.1)\n",
      "Requirement already satisfied: six>=1.5 in c:\\users\\modhw\\pyproj\\qcenv\\lib\\site-packages (from python-dateutil>=2.7->matplotlib!=3.6.1,>=3.4->seaborn) (1.16.0)\n",
      "Using cached seaborn-0.13.2-py3-none-any.whl (294 kB)\n",
      "Installing collected packages: seaborn\n",
      "Successfully installed seaborn-0.13.2\n"
     ]
    }
   ],
   "source": [
    "!pip install seaborn"
   ]
  },
  {
   "cell_type": "code",
   "execution_count": 2,
   "id": "3295f7df-739e-471d-bc11-0c1afe959782",
   "metadata": {},
   "outputs": [
    {
     "name": "stdout",
     "output_type": "stream",
     "text": [
      "Collecting wheel\n",
      "  Using cached wheel-0.43.0-py3-none-any.whl.metadata (2.2 kB)\n",
      "Using cached wheel-0.43.0-py3-none-any.whl (65 kB)\n",
      "Installing collected packages: wheel\n",
      "Successfully installed wheel-0.43.0\n",
      "Requirement already satisfied: pandas in c:\\users\\modhw\\pyproj\\qcenv\\lib\\site-packages (2.2.2)\n",
      "Requirement already satisfied: numpy>=1.26.0 in c:\\users\\modhw\\pyproj\\qcenv\\lib\\site-packages (from pandas) (1.26.4)\n",
      "Requirement already satisfied: python-dateutil>=2.8.2 in c:\\users\\modhw\\pyproj\\qcenv\\lib\\site-packages (from pandas) (2.9.0.post0)\n",
      "Requirement already satisfied: pytz>=2020.1 in c:\\users\\modhw\\pyproj\\qcenv\\lib\\site-packages (from pandas) (2024.1)\n",
      "Requirement already satisfied: tzdata>=2022.7 in c:\\users\\modhw\\pyproj\\qcenv\\lib\\site-packages (from pandas) (2024.1)\n",
      "Requirement already satisfied: six>=1.5 in c:\\users\\modhw\\pyproj\\qcenv\\lib\\site-packages (from python-dateutil>=2.8.2->pandas) (1.16.0)\n"
     ]
    }
   ],
   "source": [
    "!pip install wheel\n",
    "!pip install pandas"
   ]
  },
  {
   "cell_type": "code",
   "execution_count": 2,
   "id": "6671fcbf-bbec-44bd-bf81-b79050e005a4",
   "metadata": {},
   "outputs": [
    {
     "name": "stdout",
     "output_type": "stream",
     "text": [
      "Requirement already satisfied: pandas in c:\\users\\modhw\\pyproj\\qcenv\\lib\\site-packages (2.2.2)\n",
      "Requirement already satisfied: numpy>=1.26.0 in c:\\users\\modhw\\pyproj\\qcenv\\lib\\site-packages (from pandas) (1.26.4)\n",
      "Requirement already satisfied: python-dateutil>=2.8.2 in c:\\users\\modhw\\pyproj\\qcenv\\lib\\site-packages (from pandas) (2.9.0.post0)\n",
      "Requirement already satisfied: pytz>=2020.1 in c:\\users\\modhw\\pyproj\\qcenv\\lib\\site-packages (from pandas) (2024.1)\n",
      "Requirement already satisfied: tzdata>=2022.7 in c:\\users\\modhw\\pyproj\\qcenv\\lib\\site-packages (from pandas) (2024.1)\n",
      "Requirement already satisfied: six>=1.5 in c:\\users\\modhw\\pyproj\\qcenv\\lib\\site-packages (from python-dateutil>=2.8.2->pandas) (1.16.0)\n"
     ]
    }
   ],
   "source": [
    "!pip3 install pandas"
   ]
  },
  {
   "cell_type": "code",
   "execution_count": 2,
   "id": "b6f6cce0-5905-4eac-bdf0-d79a213de713",
   "metadata": {},
   "outputs": [
    {
     "name": "stdout",
     "output_type": "stream",
     "text": [
      "     0    1    2    3            4\n",
      "0  5.1  3.5  1.4  0.2  Iris-setosa\n",
      "1  4.9  3.0  1.4  0.2  Iris-setosa\n",
      "2  4.7  3.2  1.3  0.2  Iris-setosa\n",
      "3  4.6  3.1  1.5  0.2  Iris-setosa\n",
      "4  5.0  3.6  1.4  0.2  Iris-setosa\n",
      "                 precision    recall  f1-score   support\n",
      "\n",
      "    Iris-setosa       1.00      1.00      1.00        17\n",
      "Iris-versicolor       1.00      0.85      0.92        13\n",
      " Iris-virginica       0.88      1.00      0.94        15\n",
      "\n",
      "       accuracy                           0.96        45\n",
      "      macro avg       0.96      0.95      0.95        45\n",
      "   weighted avg       0.96      0.96      0.96        45\n",
      "\n",
      "Prediction for [4.4, 4.4, 4.4, 4.4]: ['Iris-virginica']\n"
     ]
    }
   ],
   "source": [
    "%matplotlib inline\n",
    "import pandas as pd\n",
    "import numpy as np\n",
    "from sklearn.model_selection import train_test_split\n",
    "from sklearn.svm import SVC\n",
    "from sklearn.metrics import classification_report, confusion_matrix\n",
    "import matplotlib.pyplot as plt\n",
    "import seaborn as sns\n",
    "\n",
    "# Load the dataset\n",
    "df_iris = pd.read_csv(r'iris.csv', header=None)\n",
    "\n",
    "# Print out the first few rows to verify the structure\n",
    "print(df_iris.head())\n",
    "\n",
    "# Assuming your dataset has different column names, adjust accordingly\n",
    "# Replace the column names below with the ones that match your dataset\n",
    "iris_data = df_iris.iloc[:, :-1]  # Assuming the target variable is the last column\n",
    "iris_target = df_iris.iloc[:, -1]\n",
    "# Split the data into training and testing sets\n",
    "x_train, x_test, y_train, y_test = train_test_split(iris_data, iris_target, test_size=0.30)\n",
    "\n",
    "# Initialize and train the SVM model\n",
    "csvm_model = SVC()\n",
    "csvm_model.fit(x_train, y_train)\n",
    "\n",
    "# Make predictions on the testing data\n",
    "csvm_pred = csvm_model.predict(x_test)\n",
    "\n",
    "# Evaluate the model\n",
    "print(classification_report(y_test, csvm_pred))\n",
    "\n",
    "# Make a prediction for a sample with values [4.4, 4.4, 4.4, 4.4]\n",
    "print(\"Prediction for [4.4, 4.4, 4.4, 4.4]:\", csvm_model.predict([[4.4, 4.4, 4.4, 4.4]]))"
   ]
  },
  {
   "cell_type": "code",
   "execution_count": null,
   "id": "6f1ad187-b554-4067-b06a-6873d3e55df3",
   "metadata": {},
   "outputs": [],
   "source": []
  }
 ],
 "metadata": {
  "kernelspec": {
   "display_name": "Qiskit",
   "language": "python",
   "name": "qiskit"
  },
  "language_info": {
   "codemirror_mode": {
    "name": "ipython",
    "version": 3
   },
   "file_extension": ".py",
   "mimetype": "text/x-python",
   "name": "python",
   "nbconvert_exporter": "python",
   "pygments_lexer": "ipython3",
   "version": "3.12.4"
  }
 },
 "nbformat": 4,
 "nbformat_minor": 5
}
